{
 "cells": [
  {
   "cell_type": "code",
   "execution_count": null,
   "metadata": {},
   "outputs": [],
   "source": [
    "from trainfuncs import *"
   ]
  },
  {
   "attachments": {},
   "cell_type": "markdown",
   "metadata": {},
   "source": [
    "## Train Base From GPT2 With All Data"
   ]
  },
  {
   "cell_type": "code",
   "execution_count": null,
   "metadata": {},
   "outputs": [],
   "source": [
    "model, token = new_model(\"gpt2\")\n",
    "dataset = make_dataset(get_workouts() + get_posts(), token)"
   ]
  },
  {
   "cell_type": "code",
   "execution_count": null,
   "metadata": {},
   "outputs": [],
   "source": [
    "stats = train_model(\n",
    "    model,\n",
    "    dataset,\n",
    "    epochs=5,\n",
    "    batch_size=8,\n",
    "    learning_rate=5e-4,\n",
    "    sample_every=5000,\n",
    ")"
   ]
  },
  {
   "cell_type": "code",
   "execution_count": null,
   "metadata": {},
   "outputs": [],
   "source": [
    "plot_df_stats(stats)"
   ]
  },
  {
   "cell_type": "code",
   "execution_count": null,
   "metadata": {},
   "outputs": [],
   "source": [
    "save_model(\n",
    "    model,\n",
    "    token,\n",
    "    \"gitfit-model-base\",\n",
    ")"
   ]
  },
  {
   "attachments": {},
   "cell_type": "markdown",
   "metadata": {},
   "source": [
    "## Train With Workouts From Base"
   ]
  },
  {
   "cell_type": "code",
   "execution_count": null,
   "metadata": {},
   "outputs": [],
   "source": [
    "model, token = new_model(\n",
    "    \"cluffa/gitfit-model-base\",\n",
    "    # \"gitfit-model-base/\"\n",
    ")\n",
    "dataset = make_dataset(get_workouts(), token)"
   ]
  },
  {
   "cell_type": "code",
   "execution_count": null,
   "metadata": {},
   "outputs": [],
   "source": [
    "stats = train_model(\n",
    "    model,\n",
    "    dataset,\n",
    "    epochs=15,\n",
    "    batch_size=8,\n",
    "    learning_rate=5e-6,\n",
    "    sample_every=200,\n",
    ")"
   ]
  },
  {
   "cell_type": "code",
   "execution_count": null,
   "metadata": {},
   "outputs": [],
   "source": [
    "plot_df_stats(stats)"
   ]
  },
  {
   "cell_type": "code",
   "execution_count": null,
   "metadata": {},
   "outputs": [],
   "source": [
    "save_model(\n",
    "    model,\n",
    "    token,\n",
    "    \"gitfit-model\",\n",
    ")"
   ]
  }
 ],
 "metadata": {
  "kernelspec": {
   "display_name": "gitfit",
   "language": "python",
   "name": "python3"
  },
  "language_info": {
   "codemirror_mode": {
    "name": "ipython",
    "version": 3
   },
   "file_extension": ".py",
   "mimetype": "text/x-python",
   "name": "python",
   "nbconvert_exporter": "python",
   "pygments_lexer": "ipython3",
   "version": "3.10.9"
  },
  "orig_nbformat": 4,
  "vscode": {
   "interpreter": {
    "hash": "353fd0a84c2af7d8d9f40961549cd7979a02ec5ccee2caea4c86673b316650b6"
   }
  }
 },
 "nbformat": 4,
 "nbformat_minor": 2
}
